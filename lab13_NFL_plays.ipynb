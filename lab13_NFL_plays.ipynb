{
  "cells": [
    {
      "cell_type": "markdown",
      "metadata": {},
      "source": [
        "---\n",
        "title: NFL Play-by-play Modeling and Classification\n",
        "jupyter: python3\n",
        "---"
      ]
    },
    {
      "cell_type": "code",
      "metadata": {},
      "source": [
        "import os\n",
        "import pandas as pd\n",
        "import numpy as np\n",
        "import seaborn as sb\n",
        "import statsmodels.api as sm\n",
        "import sklearn.tree as tr\n",
        "import sklearn.ensemble as ens\n",
        "import sklearn.linear_model as slm\n",
        "import matplotlib.pyplot as plt\n",
        "pd.set_option('display.max_colwidth', None)"
      ],
      "execution_count": null,
      "outputs": []
    },
    {
      "cell_type": "code",
      "metadata": {},
      "source": [
        "nfl = pd.read_csv(\"NFL_play_by_play_2022.csv.gz\")\n",
        "nfl.shape"
      ],
      "execution_count": null,
      "outputs": []
    },
    {
      "cell_type": "markdown",
      "metadata": {},
      "source": [
        "These data record play-by-play information for all games in the 2022 National Football League (NFL) season. These data were downloaded using the `nflverse` package for the R programming language (another statistics and data science environment), lightly edited, and saved in a tabular format for us to use in Python.\n",
        "\n",
        "There are many measurements for each play, some of which are computed values from `nflverse`. Here's a brief list using the data dictionary."
      ]
    },
    {
      "cell_type": "code",
      "metadata": {},
      "source": [
        "nfl_data_dictionary = pd.read_csv(os.path.join(\"NFL_play_by_play_data_dictonary.csv\"), index_col = \"Field\")\n",
        "nfl_data_dictionary.loc[[\"play_id\", \"game_id\", \"home_team\", \"away_team\", \"posteam\",\n",
        "                         \"defteam\", \"yardline_100\", \"down\", \"ydstogo\",\n",
        "                        \"touchdown\", \"play_type\"]]"
      ],
      "execution_count": null,
      "outputs": []
    },
    {
      "cell_type": "markdown",
      "metadata": {},
      "source": [
        "Use the data dictionary to look up the \"game_seconds_remaining\" column's definition.\n",
        "\n",
        "\n",
        "<details>\n",
        "nfl_data_dictionary.loc[[\"game_seconds_remaining\"]]\n",
        "</details>\n",
        "\n",
        "Let's do a little data exploration, then start to see what we can learn about the relationships between the various features of this data set.\n",
        "\n",
        "Create a box plot of the \"down\" (the offensive team must get 10 yards of field game before running out of 4 downs) and \"yrdstogo\" (the amount of distance to get a new set of 4 downs).\n",
        "\n",
        "\n",
        "<details>\n",
        "sb.boxplot(data = nfl, x = \"down\", y = \"ydstogo\")\n",
        "</details>\n",
        "\n",
        "Compute the conditional distribution of getting a touchdown (\"touchdown\" column) given the current \"down\"."
      ]
    },
    {
      "cell_type": "code",
      "metadata": {},
      "source": [
        "nfl.groupby(\"down\")[\"touchdown\"].value_counts(normalize = True).unstack()"
      ],
      "execution_count": null,
      "outputs": []
    },
    {
      "cell_type": "markdown",
      "metadata": {},
      "source": [
        "<details>\n",
        "\n",
        "Method 1:\n",
        "    \n",
        "```\n",
        "down_touchdown_joint = nfl[[\"down\", \"touchdown\"]].value_counts(normalize = True)\n",
        "down_marg = nfl[\"down\"].value_counts(normalize = True)\n",
        "## conditional distribuiton of a touchdown given each down\n",
        "down_touchdown_joint.div(down_marg, 0).unstack()\n",
        "```\n",
        "\n",
        "</details>\n",
        "\n",
        "<details>\n",
        "    \n",
        "Method 2:\n",
        "    \n",
        "```\n",
        "nfl.groupby(\"down\")[\"touchdown\"].value_counts(normalize = True).unstack()\n",
        "```\n",
        "\n",
        "</details>\n",
        "\n",
        "## Linear Regression\n",
        "\n",
        "Now that we have investigated the data a little, let's look at modeling **conditional means** using **linear regression**.\n",
        "\n",
        "Recall, multiple linear regression extends our earlier use of simple linear regression by imposing the following structure:\n",
        "\n",
        "$$E(Y \\mid X_1 = x_1, X_2 = x_2, \\ldots) = a + b_1 x_1 + b_2 x_2 + \\ldots$$\n",
        "\n",
        "We'll start by asking what is a typical amount of yards gained under different possible stragies.\n",
        "\n",
        "### Yards Gained\n",
        "\n",
        "The \"yards_gained\" field contains how many yards the offensive team gained (if any) on each play. Create a box plot of \"yards_gained\" (y-axis) broken out by \"play_type\" (the `showfliers = False` option is useful here).\n",
        "\n",
        "\n",
        "<details>\n",
        "sb.boxplot(data = nfl, x = \"play_type\", y = \"yards_gained\", showfliers = False)\n",
        "</details>\n",
        "\n",
        "As you saw, for plays other than passing and running, the yards gained was typically negligible. Let's focus in on just passing and running plays to ask the question which of these gains more yards."
      ]
    },
    {
      "cell_type": "code",
      "metadata": {},
      "source": [
        "pass_run = nfl.loc[nfl[\"play_type\"].isin([\"run\", \"pass\"])].copy()\n",
        "pass_run[\"pass\"] = (pass_run[\"play_type\"] == \"pass\") + 0 # Indicator of passing play. Force it to be numeric"
      ],
      "execution_count": null,
      "outputs": []
    },
    {
      "cell_type": "markdown",
      "metadata": {},
      "source": [
        "Let's start by simplying asking the question, what is the average number of yards gained for passing plays and running plays. Using `groupby` to answer this question."
      ]
    },
    {
      "cell_type": "code",
      "metadata": {},
      "source": [
        "pass_run.groupby(\"pass\")[\"yards_gained\"].mean()"
      ],
      "execution_count": null,
      "outputs": []
    },
    {
      "cell_type": "markdown",
      "metadata": {},
      "source": [
        "Now let's see that we can get the same answer using linear regression. We'll use the `sm.OLS` function  to get a linear regression of `yards_gained` on `pass`. Print out the coeffients. What do you notice about the intercpet (`const`)?\n"
      ]
    },
    {
      "cell_type": "code",
      "metadata": {},
      "source": [
        "tmp = pass_run[[\"yards_gained\", \"pass\"]].dropna()\n",
        "model = sm.OLS(tmp[\"yards_gained\"], sm.add_constant(pass_run[\"pass\"]))\n",
        "bs = model.fit().params\n",
        "bs"
      ],
      "execution_count": null,
      "outputs": []
    },
    {
      "cell_type": "markdown",
      "metadata": {},
      "source": [
        "Now using the `bs` vector get the conditional mean of yards gained for a pass (when the variable is set to 1).\n",
        "\n",
        "\n",
        "<details>\n",
        "bs[0] + bs[1] * 1.0\n",
        "</details>\n",
        "\n",
        "We could group by multiple factors to get conditional means for different combinations of variables. Group by `[\"pass\", \"shotgun\", \"qb_dropback\"]` (the second two indicate how the offense set up and how the quarterback moved after the play started) and compute the conditional mean of \"yards_gained\" for each combination.\n",
        "\n",
        "Let's begin by reviewing the descriptions of these three variables."
      ]
    },
    {
      "cell_type": "code",
      "metadata": {},
      "source": [
        "nfl_data_dictionary.loc[[\"pass\", \"shotgun\", \"qb_dropback\"]]"
      ],
      "execution_count": null,
      "outputs": []
    },
    {
      "cell_type": "markdown",
      "metadata": {},
      "source": [
        "<details>\n",
        "pass_run.groupby([\"pass\", \"shotgun\", \"qb_dropback\"])[\"yards_gained\"].mean()\n",
        "</details>\n",
        "\n",
        "This isn't too hard to read, but it starts to get tedious as we add more combinations. Additionally, dealing with continuous variable remains difficult.\n",
        "\n",
        "Create a scatter plot of \"yards_gained\" (y-axis) and \"game_seconds_remaining\" (x-axis) using the `pass_run` data set.\n",
        "\n",
        "\n",
        "<details>\n",
        "sb.scatterplot(data = pass_run, x = \"game_seconds_remaining\", y = \"yards_gained\")\n",
        "</details>\n",
        "\n",
        "At first glance, this might not seem like much, but we're only looking two variables. By taking into account some of these other variables, we might learn more about how teams react as the clock clicks down. Create a regression \"yards_gained\" on \"shotgun\", \"game_seconds_remaining\", \"pass\", and \"qb_dropback\"."
      ]
    },
    {
      "cell_type": "code",
      "metadata": {},
      "source": [
        "X = pass_run[[\"shotgun\", \"game_seconds_remaining\", \"pass\", \"qb_dropback\"]]\n",
        "\n",
        "# use X with sm.OLS"
      ],
      "execution_count": null,
      "outputs": []
    },
    {
      "cell_type": "markdown",
      "metadata": {},
      "source": [
        "<details>\n",
        "model = sm.OLS(tmp[\"yards_gained\"], sm.add_constant(X))\n",
        "\n",
        "bs = model.fit().params\n",
        "\n",
        "bs\n",
        "</details>\n",
        "\n",
        "Take a moment to answer the following questions.\n",
        "\n",
        "On average, do teams gain more yards when:\n",
        "* They use a shotgun formation\n",
        "* Have the QB drop back\n",
        "* The play is later in the game\n",
        "* Choose to pass?\n",
        "\n",
        "\n",
        "It is tempting to look at the coefficients in the previous regression and think of the **magnitude** indicating how important each variable is. But remember, they have different scales!\n",
        "\n",
        "In the simple linear regression case ($E(Y \\mid X = x) = a + bx)$), we found that $b = r_{xy} S_y / S_x$. While the expressions are a little different here, find the standard deviations of each of the variables in `X`.\n",
        "\n",
        "\n",
        "<details>\n",
        "X.std()\n",
        "</details>\n",
        "\n",
        "One way to understand the contributions of each variable is to replace the measurements with their Z-scores.\n",
        "\n",
        "Take a moment to think about why this will make the measurments more comparable.\n",
        "\n",
        "Produce the Z scores for `X` (call it `Z`). What are the standard deviations of this table?\n",
        "\n",
        "\n",
        "<details>\n",
        "Z = (X - X.mean()) / X.std()\n",
        "\n",
        "Z.std()\n",
        "</details>\n",
        "\n",
        "Repeat the linear regression of \"yards_gained\" this time using `Z` (and `add_constant`). Call it `modelZ`. Print out the parameter values. Now that these are on the same scale, for a one standard deviation change in which of the predictors do we see the largest change in the outcome?\n",
        "\n",
        "\n",
        "<details>\n",
        "modelZ = sm.OLS(tmp[\"yards_gained\"], sm.add_constant(Z))\n",
        "\n",
        "bsZ = modelZ.fit().params\n",
        "\n",
        "bsZ\n",
        "\n",
        "</details>\n",
        "\n",
        "An even better method asks the question of what is a plausible range of values for the (standardized) coefficients. Use the `.fit().conf_int()` to get 95% confidence intervals. What do you conclude about each of these variables and the relationship with yards gained, holding the others constant?\n",
        "\n",
        "\n",
        "\n",
        "<details>\n",
        "modelZ.fit().conf_int()\n",
        "</details>\n",
        "\n",
        "### Probability of a Touch Down\n",
        "\n",
        "A consistent result in this course has been that **probabilities of events** and **means of binary (0-1) outcomes** (corresponding to those events) are actually the same thing. For binary Y,\n",
        "\n",
        "$$P(Y = 1) = E(Y)$$\n",
        "\n",
        "This also extends to **conditional probabilities**. So $P(Y = 1 \\mid X_1 = x_1, \\ldots) = E(Y \\mid X_1 = x_1, \\ldots)$.\n",
        "\n",
        "Let's use `pass_run` and focus on the probability of making a touchdown. To start, let's look at the conditional probability of making a touch given the `yardline_100` variable (how far from scoring is the offensive team). Use `groupby` to compute the conditional mean of getting a touchdown for each value of `yardline_100`. Plot these results using `sb.lineplot`.\n",
        "\n",
        "\n",
        "<details>\n",
        "touchdown_by_yard = pass_run.groupby('yardline_100')[\"touchdown\"].mean()\n",
        "\n",
        "sb.lineplot(data = touchdown_by_yard) # will use the index for X and the values for Y\n",
        "</details>\n",
        "\n",
        "We notice that the probability of getting a touchdown really falls off outside of 20 yards. So let's focus on those plays within 20 yards of the end zone."
      ]
    },
    {
      "cell_type": "code",
      "metadata": {},
      "source": [
        "within_20 = pass_run.loc[pass_run[\"yardline_100\"] <= 20]\n",
        "within_20[\"touchdown\"].mean()"
      ],
      "execution_count": null,
      "outputs": []
    },
    {
      "cell_type": "markdown",
      "metadata": {},
      "source": [
        "For plays within this region, what is the conditional probability of getting a touchdown given the order of down?\n",
        "\n",
        "\n",
        "<details>\n",
        "within_20.groupby(\"down\")[\"touchdown\"].mean()\n",
        "</details>\n",
        "\n",
        "If we further add pass or run as a variable (`play_type`), compute conditional probability of getting a touchdown.\n",
        "\n",
        "\n",
        "<details>\n",
        "within_20.groupby([\"play_type\", \"down\"])[\"touchdown\"].mean()\n",
        "</details>\n",
        "\n",
        "As before, this starts to get tedious with more predictors and not even possible with quantitative predictors. So let's use linear regression to proceed. Fit a model on this `tmp` data set of touchdown regressed on `pass` and `down`. Print out the parameter values to see how the probability changes as a linear function of the predictors."
      ]
    },
    {
      "cell_type": "code",
      "metadata": {},
      "source": [
        "tmp = pass_run[[\"touchdown\", \"pass\", \"down\", \"yardline_100\"]].dropna()"
      ],
      "execution_count": null,
      "outputs": []
    },
    {
      "cell_type": "markdown",
      "metadata": {},
      "source": [
        "<details>\n",
        "td_mod = sm.OLS(tmp[\"touchdown\"], sm.add_constant(tmp[[\"pass\", \"down\"]]))\n",
        "td_mod.fit().params\n",
        "</details>\n",
        "\n",
        "In the previous model we assume that a one unit change of \"down\" leads to a constant change in the conditional probability of getting a touchdown. But this may not be the case. What if each down contributes a differernt amount to the conditional probability of a touch down, even attending to whether it is a pass or run. Let's instead use the indicators of each order of downs as the predictors."
      ]
    },
    {
      "cell_type": "code",
      "metadata": {},
      "source": [
        "tmp2 = tmp.join(pd.get_dummies(data = tmp[\"down\"], prefix = \"down\")).dropna()\n",
        "tmp2"
      ],
      "execution_count": null,
      "outputs": []
    },
    {
      "cell_type": "code",
      "metadata": {},
      "source": [
        "## notice no use of add_constant here, if we also had an intercept, we would have to discard one of the downs.\n",
        "td_mod2 = sm.OLS(tmp2[\"touchdown\"], tmp2[[\"pass\", \"down_1.0\", \"down_2.0\", \"down_3.0\", \"down_4.0\"]].astype(float))\n",
        "td_mod2.fit().params"
      ],
      "execution_count": null,
      "outputs": []
    },
    {
      "cell_type": "markdown",
      "metadata": {},
      "source": [
        "One read of the above would be that teams should just wait for 4th downand then go for it, since the probability of getting a touch down in highest. But remember, that we are just looking at pass or run plays. Teams have the option of punting (kicking the ball away) or going for a field goal (3 points instead of 5 points). Could there be another reason why 4th downs look good when only restricted to run or pass plays?\n",
        "\n",
        "Create a box plot with \"yardline_100\"on the y-axis and \"down\" on the x-axis.\n",
        "\n",
        "\n",
        "<details>\n",
        "sb.boxplot(data = pass_run, x = \"down\", y = \"yardline_100\")\n",
        "</details>\n",
        "\n",
        "Let's put it all together:"
      ]
    },
    {
      "cell_type": "code",
      "metadata": {},
      "source": [
        "td_mod3 = sm.OLS(tmp2[\"touchdown\"], tmp2[[\"pass\", \"down_1.0\", \"down_2.0\", \"down_3.0\", \"down_4.0\", \"yardline_100\"]].astype(float))\n",
        "td_mod3.fit().params"
      ],
      "execution_count": null,
      "outputs": []
    },
    {
      "cell_type": "markdown",
      "metadata": {},
      "source": [
        "Accounting for where we are the field, what do we see?\n",
        "\n",
        "\n",
        "Finally for this section, let's compute the conditional probability that a team gets a touchdown on 1st down when on the 20th yard line using a running play.\n",
        "\n",
        "<details>\n",
        "bs = td_mod3.fit().params\n",
        "bs[\"down_1.0\"] + bs[\"yardline_100\"] * 20\n",
        "</details>\n",
        "\n",
        "### Logistic Regression\n",
        "\n",
        "In the previous investigation, we did not find any probabilities outside of the (0,1) range, but with linear regression, there is no reason this is excluded.\n",
        "\n",
        "An alternative is **logistic regression** that passes $v = a + b_1 x_1 + ...$ through the function:\n",
        "\n",
        "$$\\frac{e^v}{1 + e^v}$$\n",
        "\n",
        "where $e \\approx 2.71$"
      ]
    },
    {
      "cell_type": "code",
      "metadata": {},
      "source": [
        "td_mod4 = slm.LogisticRegression(penalty = None,\n",
        "                                 fit_intercept = False).fit(\n",
        "    tmp2[[\"pass\", \"down_1.0\", \"down_2.0\", \"down_3.0\", \"down_4.0\", \"yardline_100\"]],\n",
        "    tmp[\"touchdown\"])\n",
        "\n",
        "td_mod4.coef_"
      ],
      "execution_count": null,
      "outputs": []
    },
    {
      "cell_type": "markdown",
      "metadata": {},
      "source": [
        "These coefficients are in order of passing, the 4 downs, and distance from the end zone. Unlike linear regression, we can't interpret this result as a \"one unit change leads to $b$ units change in the conditional probablity\", but we can look at the signs and magnitudes to get an idea of the conditional probability changes.\n",
        "\n",
        "We can see that touchdowns are *more likely* on pass and *less unlikely* as the down number increases. Also the farther from the end zone, touchdowns are increasing less likely.\n",
        "\n",
        "We can compute estimated probabilties and compare them. For example, on 4th down, on the 10 yard line, assuming we don't want to punt or take a 3pt attempt, should a team run or pass to get a touchdown?\n",
        "\n",
        "We'll use the `predict_proba` to get the predicted probabilities. The looks little tricky, but we're just creating a table with one row (the lists `[[...]]`) with values for whether teams passed (first postition) or not on 4th down (4th position) on the 10 yard line (5th position). The rest is for formatting."
      ]
    },
    {
      "cell_type": "code",
      "metadata": {},
      "source": [
        "fourth_10_run = td_mod4.predict_proba([[0, 0, 0, 0, 1, 10]])[0][0]\n",
        "fourth_10_pass = td_mod4.predict_proba([[1, 0, 0, 0, 1, 10]])[0][0]\n",
        "fourth_10_run - fourth_10_pass"
      ],
      "execution_count": null,
      "outputs": []
    },
    {
      "cell_type": "markdown",
      "metadata": {},
      "source": [
        "Here we see that there is an 8% higher likelihood that running gains a touchdown than a pass.\n",
        "\n",
        "Let's build another logistic regression model by focusing attention on 4th down. Do or die time. The offensive team can either \"go for it\" by passing or running, try for lesser points with a field goal, or give the ball pack to the defense using a punt (in some cases, a few other options)."
      ]
    },
    {
      "cell_type": "code",
      "metadata": {},
      "source": [
        "fourth_down = nfl.loc[nfl[\"down\"] == 4].copy() # the use of .copy() avoids some warning messages later"
      ],
      "execution_count": null,
      "outputs": []
    },
    {
      "cell_type": "markdown",
      "metadata": {},
      "source": [
        "Compute the contional probability of each possible \"play_type\" using `value_counts`.\n",
        "\n",
        "\n",
        "<details>\n",
        "fourth_down[\"play_type\"].value_counts(normalize = True)\n",
        "</details>\n",
        "\n",
        "Create a new column in the `fourth_down` table called `go_for_it` that is True when team decided to either pass or run, and False otherwise (recall the use of the `.isin(COLLECTION)` method). Show the probability of \"going for it\" on 4th down.\n",
        "\n",
        "\n",
        "<details>\n",
        "\n",
        "```\n",
        "fourth_down[\"go_for_it\"] = fourth_down[\"play_type\"].isin([\"pass\", \"run\"])\n",
        "\n",
        "fourth_down[\"go_for_it\"].mean()\n",
        "```\n",
        "\n",
        "</details>\n",
        "\n",
        "Create a logistic regression model that models the conditional probability of \"going for it\" on 4th down conditional on an intercept and the `game_seconds_remaining` column. Using the `.intercept_` and `.coef_` attributes, are teams more or less likely to go for it in the late game (when `game_seconds_remaing` is small)?\n",
        "\n",
        "\n",
        "\n",
        "<details>\n",
        "    \n",
        "```\n",
        "go_for_it_mod = slm.LogisticRegression(penalty = None,\n",
        "                                       fit_intercept = True).fit(fourth_down[[\"game_seconds_remaining\"]],\n",
        "                                                                 fourth_down[\"go_for_it\"])\n",
        "(go_for_it_mod.intercept_, go_for_it_mod.coef_)\n",
        "```\n",
        "\n",
        "Negative coefficient means *less likely* to go for it in the early game, more likely in the late game.\n",
        "</details>\n",
        "\n",
        "## Optional: Decision Trees\n",
        "\n",
        "After introducing linear regression as an extension of correlation, we returned to conditional means using nearest neighbor and lowess to **average over near-by points** when computing conditional means. A closely related idea, divides up the predictors over a series of steps to form a flow chart. We call these models, \"decision trees.\"\n",
        "\n",
        "In this section, we will mostly run and look at code, but feel free to modify these segments to ask additional questions.\n",
        "\n",
        "To prepare for the decision tree, we do a little pre-processing:"
      ]
    },
    {
      "cell_type": "code",
      "metadata": {},
      "source": [
        "predictors = [\"yardline_100\", \"ydstogo\",\n",
        "              \"game_seconds_remaining\", \"score_differential\"]\n",
        "\n",
        "allvars = predictors.copy()\n",
        "allvars.append(\"play_type\")\n",
        "\n",
        "\n",
        "fourth_down_tbl = fourth_down.get(allvars).copy()\n",
        "\n",
        "fourth_down_tbl[\"play_type\"] = fourth_down_tbl[\"play_type\"].astype(\"category\")"
      ],
      "execution_count": null,
      "outputs": []
    },
    {
      "cell_type": "markdown",
      "metadata": {},
      "source": [
        "Now that we have the data formated the way we need it, we create a decision tree and then print it out."
      ]
    },
    {
      "cell_type": "code",
      "metadata": {},
      "source": [
        "fourth_down_tree = tr.DecisionTreeClassifier(max_depth = 3).fit(fourth_down_tbl.get(predictors), fourth_down_tbl[\"play_type\"].cat.codes)"
      ],
      "execution_count": null,
      "outputs": []
    },
    {
      "cell_type": "code",
      "metadata": {},
      "source": [
        "print(tr.export_text(fourth_down_tree, feature_names = predictors))"
      ],
      "execution_count": null,
      "outputs": []
    },
    {
      "cell_type": "code",
      "metadata": {},
      "source": [
        "pd.DataFrame({'code': fourth_down_tbl[\"play_type\"].cat.codes, 'play_type': fourth_down_tbl[\"play_type\"]}).drop_duplicates()"
      ],
      "execution_count": null,
      "outputs": []
    },
    {
      "cell_type": "code",
      "metadata": {},
      "source": [
        "nfl_data_dictionary.loc[[\"score_differential\"]] # score_differential description"
      ],
      "execution_count": null,
      "outputs": []
    },
    {
      "cell_type": "markdown",
      "metadata": {},
      "source": [
        "Using the above output, what choice would typically be made if a team is on the 30 yard line, there is more than 1.5 yards to go to get a first down, and the defensive side is leading by 12 points?\n"
      ]
    }
  ],
  "metadata": {
    "kernelspec": {
      "display_name": "Python 3",
      "language": "python",
      "name": "python3"
    }
  },
  "nbformat": 4,
  "nbformat_minor": 4
}